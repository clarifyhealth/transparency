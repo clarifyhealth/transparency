{
 "cells": [
  {
   "cell_type": "code",
   "execution_count": 1,
   "metadata": {},
   "outputs": [],
   "source": [
    "import findspark \n",
    "findspark.init()"
   ]
  },
  {
   "cell_type": "code",
   "execution_count": 2,
   "metadata": {},
   "outputs": [],
   "source": [
    "from pyspark.sql import SparkSession\n",
    "spark = SparkSession.builder.appName(\"random_forest_explain\").config(\"spark.sql.execution.arrow.enabled\", \"true\").enableHiveSupport().getOrCreate()"
   ]
  },
  {
   "cell_type": "code",
   "execution_count": 3,
   "metadata": {},
   "outputs": [],
   "source": [
    "import re\n",
    "from typing import List\n",
    "from itertools import chain\n",
    "from pyspark.ml import Model\n",
    "from pyspark.ml import Pipeline, PipelineModel\n",
    "from pyspark.sql import SparkSession, DataFrame\n",
    "from pyspark.ml.regression import RandomForestRegressor\n",
    "from pyspark.ml.classification import RandomForestClassifier\n",
    "from pyspark.ml.feature import StringIndexer, VectorAssembler, SQLTransformer, OneHotEncoder\n",
    "\n",
    "from transparency.spark.ohe.decoder import OneHotDecoder\n",
    "from transparency.spark.prediction.explainer.tree import EnsembleTreeExplainTransformer\n",
    "\n",
    "import pandas as pd\n",
    "import matplotlib.pyplot as plt"
   ]
  },
  {
   "cell_type": "code",
   "execution_count": 4,
   "metadata": {},
   "outputs": [],
   "source": [
    "def get_ensemble_pipeline_stages(categorical_columns, continuous_columns, label_column, ensemble_type,\n",
    "                                 classification=False\n",
    "                                 ) -> List:\n",
    "    encoders = []\n",
    "    for c in categorical_columns:\n",
    "        indexer = StringIndexer(inputCol=c, outputCol=f\"{c}_IDX\")\n",
    "        encoders.append(indexer)\n",
    "        encoder = OneHotEncoder(inputCol=indexer.getOutputCol(), outputCol=f\"{c}_OHE\", dropLast=False)\n",
    "        encoders.append(encoder)\n",
    "\n",
    "    features_column = f\"features_{label_column}\"\n",
    "    prediction_column = f\"prediction_{label_column}\"\n",
    "\n",
    "    assembler = VectorAssembler(inputCols=[f\"{c}_OHE\" for c in categorical_columns] + continuous_columns,\n",
    "                                outputCol=features_column)\n",
    "\n",
    "  \n",
    "    if classification:\n",
    "        _model = RandomForestClassifier(labelCol=label_column, featuresCol=features_column, predictionCol=prediction_column)\n",
    "    else:  \n",
    "        _model = RandomForestRegressor(labelCol=label_column, featuresCol=features_column, predictionCol=prediction_column)\n",
    "    \n",
    "    stages: List = encoders + [assembler, _model]\n",
    "\n",
    "    return stages"
   ]
  },
  {
   "cell_type": "code",
   "execution_count": 5,
   "metadata": {},
   "outputs": [],
   "source": [
    "def get_feature_importance(spark_session: SparkSession, model: Model, prediction_df: DataFrame,\n",
    "                           feature_column: str, ) -> DataFrame:\n",
    "    ml_attributes = prediction_df.schema[feature_column].metadata[\"ml_attr\"][\"attrs\"].values()\n",
    "    attrs = sorted((attr[\"idx\"], attr[\"name\"]) for attr in (chain(*ml_attributes)))\n",
    "    feature_importance = [\n",
    "        (idx, re.sub('[^0-9a-zA-Z]+', '_', name), name, float(model.featureImportances[idx]))\n",
    "        for\n",
    "        idx, name\n",
    "        in attrs]\n",
    "    feature_importance.sort(key=lambda x: x[3], reverse=True)\n",
    "    feature_importance_df: DataFrame = spark_session.createDataFrame(feature_importance).toDF(\"Feature_Index\",\n",
    "                                                                                              \"Feature\",\n",
    "                                                                                              \"Original_Feature\",\n",
    "                                                                                              \"Importance\")\n",
    "\n",
    "    return feature_importance_df"
   ]
  },
  {
   "cell_type": "code",
   "execution_count": 6,
   "metadata": {},
   "outputs": [],
   "source": [
    "def get_ensemble_explain_stages(predictions_view: str, features_importance_view: str, label_column: str,\n",
    "                                rf_model_path: str, ensemble_type: str, classification=False) -> List:\n",
    "    stages = [\n",
    "        OneHotDecoder(oheSuffix=\"_OHE\", idxSuffix=\"_IDX\", unknownSuffix=\"Unknown\"),\n",
    "        SQLTransformer(statement=f\"CREATE OR REPLACE TEMPORARY VIEW {predictions_view} AS SELECT * from __THIS__\"),\n",
    "        EnsembleTreeExplainTransformer(predictionView=predictions_view, featureImportanceView=features_importance_view,\n",
    "                                       modelPath=rf_model_path, label=label_column,\n",
    "                                       dropPathColumn=True, isClassification=classification, ensembleType=ensemble_type)\n",
    "    ]\n",
    "    return stages"
   ]
  },
  {
   "cell_type": "markdown",
   "metadata": {},
   "source": [
    "# Random Forest Regression \n",
    "- The example below is using **boston dataset** for preciting the **median home prices** for occupied homes.\n",
    "- The example is stricitly used for **demonstrating** the uagae of `EnsembleTreeExplainTransformer`."
   ]
  },
  {
   "cell_type": "code",
   "execution_count": 7,
   "metadata": {},
   "outputs": [],
   "source": [
    "boston_csv = '/work/tests/data/regression/dataset_boston.csv'\n",
    "boston_df: DataFrame = spark.read.option(\"header\", True).option(\"inferSchema\", True).csv(boston_csv)"
   ]
  },
  {
   "cell_type": "code",
   "execution_count": 8,
   "metadata": {},
   "outputs": [],
   "source": [
    "label_column = 'medv'\n",
    "features_column = f\"features_{label_column}\"\n",
    "prediction_column = f\"prediction_{label_column}\"\n",
    "\n",
    "contrib_column = f\"prediction_{label_column}_contrib\"\n",
    "contrib_column_sum = f\"{contrib_column}_sum\"\n",
    "contrib_column_intercept = f\"{contrib_column}_intercept\"\n",
    "\n",
    "features_importance_view = f\"features_importance_{label_column}_view\"\n",
    "predictions_view = f\"predictions_{label_column}_view\""
   ]
  },
  {
   "cell_type": "code",
   "execution_count": 9,
   "metadata": {},
   "outputs": [],
   "source": [
    "categorical_columns=[]\n",
    "continuous_columns = [x for x in boston_df.columns if x not in ['id', label_column]]"
   ]
  },
  {
   "cell_type": "code",
   "execution_count": 15,
   "metadata": {},
   "outputs": [],
   "source": [
    "stages = get_ensemble_pipeline_stages([], continuous_columns + categorical_columns, label_column, ensemble_type=\"rf\",classification=False)"
   ]
  },
  {
   "cell_type": "code",
   "execution_count": 16,
   "metadata": {},
   "outputs": [],
   "source": [
    "import uuid\n",
    "pipeline = Pipeline(stages=stages)\n",
    "pipeline_model: PipelineModel = pipeline.fit(boston_df)\n",
    "rf_model = pipeline_model.stages[-1]\n",
    "string_id = uuid.uuid4()\n",
    "rf_model_path: str = f\"/tmp/{string_id}\"\n",
    "rf_model.write().save(rf_model_path)"
   ]
  },
  {
   "cell_type": "code",
   "execution_count": 17,
   "metadata": {},
   "outputs": [],
   "source": [
    "prediction_df = pipeline_model.transform(boston_df)\n",
    "prediction_df.createOrReplaceTempView(predictions_view)"
   ]
  },
  {
   "cell_type": "code",
   "execution_count": 18,
   "metadata": {},
   "outputs": [],
   "source": [
    "features_importance_df = get_feature_importance(spark, rf_model, prediction_df, features_column)\n",
    "features_importance_df.createOrReplaceTempView(features_importance_view)"
   ]
  },
  {
   "cell_type": "code",
   "execution_count": 20,
   "metadata": {},
   "outputs": [],
   "source": [
    "explain_stages = get_ensemble_explain_stages(predictions_view, features_importance_view, label_column, rf_model_path,ensemble_type=\"rf\",classification=False)\n",
    "explain_pipeline = Pipeline(stages=explain_stages)\n",
    "explain_df = explain_pipeline.fit(prediction_df).transform(prediction_df)"
   ]
  },
  {
   "cell_type": "code",
   "execution_count": 21,
   "metadata": {},
   "outputs": [],
   "source": [
    "feature_index_meta = features_importance_df.select(\"Feature_Index\", \"Feature\").orderBy(\"Feature_Index\").rdd.collectAsMap()"
   ]
  },
  {
   "cell_type": "code",
   "execution_count": 22,
   "metadata": {
    "pycharm": {
     "name": "#%%\n"
    }
   },
   "outputs": [],
   "source": [
    "expressions = []\n",
    "for key,value in feature_index_meta.items():\n",
    "    expressions.append(f\"AVG({contrib_column}[{key}]) as {value}\")\n",
    "\n",
    "contributions = explain_df.selectExpr(expressions).collect()[0].asDict()"
   ]
  },
  {
   "cell_type": "code",
   "execution_count": 23,
   "metadata": {},
   "outputs": [
    {
     "data": {
      "text/html": [
       "<div>\n",
       "<style scoped>\n",
       "    .dataframe tbody tr th:only-of-type {\n",
       "        vertical-align: middle;\n",
       "    }\n",
       "\n",
       "    .dataframe tbody tr th {\n",
       "        vertical-align: top;\n",
       "    }\n",
       "\n",
       "    .dataframe thead th {\n",
       "        text-align: right;\n",
       "    }\n",
       "</style>\n",
       "<table border=\"1\" class=\"dataframe\">\n",
       "  <thead>\n",
       "    <tr style=\"text-align: right;\">\n",
       "      <th></th>\n",
       "      <th>Contributions</th>\n",
       "    </tr>\n",
       "  </thead>\n",
       "  <tbody>\n",
       "    <tr>\n",
       "      <th>crim</th>\n",
       "      <td>-0.662769</td>\n",
       "    </tr>\n",
       "    <tr>\n",
       "      <th>zn</th>\n",
       "      <td>-0.002142</td>\n",
       "    </tr>\n",
       "    <tr>\n",
       "      <th>indus</th>\n",
       "      <td>-1.233678</td>\n",
       "    </tr>\n",
       "    <tr>\n",
       "      <th>chas</th>\n",
       "      <td>0.027064</td>\n",
       "    </tr>\n",
       "    <tr>\n",
       "      <th>nox</th>\n",
       "      <td>-0.596287</td>\n",
       "    </tr>\n",
       "  </tbody>\n",
       "</table>\n",
       "</div>"
      ],
      "text/plain": [
       "       Contributions\n",
       "crim       -0.662769\n",
       "zn         -0.002142\n",
       "indus      -1.233678\n",
       "chas        0.027064\n",
       "nox        -0.596287"
      ]
     },
     "execution_count": 23,
     "metadata": {},
     "output_type": "execute_result"
    }
   ],
   "source": [
    "plot_contrib_df = pd.DataFrame.from_dict(contributions,orient='index',columns=['Contributions'])\n",
    "plot_contrib_df.head()"
   ]
  },
  {
   "cell_type": "code",
   "execution_count": 24,
   "metadata": {
    "pycharm": {
     "name": "#%%\n"
    }
   },
   "outputs": [
    {
     "data": {
      "image/png": "[encoded data removed]",
      "text/plain": [
       "<Figure size 648x504 with 1 Axes>"
      ]
     },
     "metadata": {
      "needs_background": "light"
     },
     "output_type": "display_data"
    }
   ],
   "source": [
    "final_plot_contrib_df = plot_contrib_df.iloc[plot_contrib_df['Contributions'].abs().argsort()]\n",
    "final_plot_contrib_df.plot(kind='barh', figsize=(9, 7))\n",
    "plt.title('Feature Contributions')\n",
    "plt.axvline(x=0, color='.5')\n",
    "plt.subplots_adjust(left=.3)"
   ]
  },
  {
   "cell_type": "markdown",
   "metadata": {},
   "source": [
    "# Random Forest Classification \n",
    "- The example below is using **prima india diabetes dataset** for preciting the **diabetes outcome** for patient.\n",
    "- The example is stricitly used for **demonstrating** the uagae of `GLMExplainTransformer`.\n"
   ]
  },
  {
   "cell_type": "code",
   "execution_count": 25,
   "metadata": {},
   "outputs": [],
   "source": [
    "prima_indian_diabetes_csv = '/work/tests/data/classification/dataset_prima_indian_diabetes.csv'\n",
    "prima_indian_diabetes_df = spark.read.option(\"header\", True).option(\"inferSchema\", True).csv(\n",
    "    prima_indian_diabetes_csv)"
   ]
  },
  {
   "cell_type": "code",
   "execution_count": 26,
   "metadata": {},
   "outputs": [],
   "source": [
    "label_column = 'outcome'\n",
    "features_column = f\"features_{label_column}\"\n",
    "prediction_column = f\"prediction_{label_column}\"\n",
    "\n",
    "contrib_column = f\"prediction_{label_column}_contrib\"\n",
    "contrib_column_sum = f\"{contrib_column}_sum\"\n",
    "contrib_column_intercept = f\"{contrib_column}_intercept\"\n",
    "\n",
    "features_importance_view = f\"features_importance_{label_column}_view\"\n",
    "predictions_view = f\"predictions_{label_column}_view\""
   ]
  },
  {
   "cell_type": "code",
   "execution_count": 27,
   "metadata": {},
   "outputs": [],
   "source": [
    "categorical_columns=[]\n",
    "continuous_columns = [x for x in prima_indian_diabetes_df.columns if x not in ['id', label_column]]"
   ]
  },
  {
   "cell_type": "code",
   "execution_count": 28,
   "metadata": {},
   "outputs": [],
   "source": [
    "stages = get_ensemble_pipeline_stages([], continuous_columns + categorical_columns, label_column, ensemble_type=\"rf\",classification=True)"
   ]
  },
  {
   "cell_type": "code",
   "execution_count": 29,
   "metadata": {},
   "outputs": [],
   "source": [
    "import uuid\n",
    "pipeline = Pipeline(stages=stages)\n",
    "pipeline_model: PipelineModel = pipeline.fit(prima_indian_diabetes_df)\n",
    "rf_model = pipeline_model.stages[-1]\n",
    "string_id = uuid.uuid4()\n",
    "rf_model_path: str = f\"/tmp/{string_id}\"\n",
    "rf_model.write().save(rf_model_path)"
   ]
  },
  {
   "cell_type": "code",
   "execution_count": 30,
   "metadata": {},
   "outputs": [],
   "source": [
    "prediction_df = pipeline_model.transform(prima_indian_diabetes_df)\n",
    "prediction_df.createOrReplaceTempView(predictions_view)"
   ]
  },
  {
   "cell_type": "code",
   "execution_count": 31,
   "metadata": {},
   "outputs": [],
   "source": [
    "features_importance_df = get_feature_importance(spark, rf_model, prediction_df, features_column)\n",
    "features_importance_df.createOrReplaceTempView(features_importance_view)"
   ]
  },
  {
   "cell_type": "code",
   "execution_count": 32,
   "metadata": {},
   "outputs": [],
   "source": [
    "explain_stages = get_ensemble_explain_stages(predictions_view, features_importance_view, label_column, rf_model_path,ensemble_type=\"rf\",classification=True)\n",
    "explain_pipeline = Pipeline(stages=explain_stages)\n",
    "explain_df = explain_pipeline.fit(prediction_df).transform(prediction_df)"
   ]
  },
  {
   "cell_type": "code",
   "execution_count": 33,
   "metadata": {},
   "outputs": [],
   "source": [
    "feature_index_meta = features_importance_df.select(\"Feature_Index\", \"Feature\").orderBy(\"Feature_Index\").rdd.collectAsMap()"
   ]
  },
  {
   "cell_type": "code",
   "execution_count": 34,
   "metadata": {},
   "outputs": [],
   "source": [
    "expressions = []\n",
    "for key,value in feature_index_meta.items():\n",
    "    expressions.append(f\"AVG({contrib_column}[{key}]) as {value}\")\n",
    "\n",
    "contributions = explain_df.selectExpr(expressions).collect()[0].asDict()"
   ]
  },
  {
   "cell_type": "code",
   "execution_count": 35,
   "metadata": {},
   "outputs": [
    {
     "data": {
      "text/html": [
       "<div>\n",
       "<style scoped>\n",
       "    .dataframe tbody tr th:only-of-type {\n",
       "        vertical-align: middle;\n",
       "    }\n",
       "\n",
       "    .dataframe tbody tr th {\n",
       "        vertical-align: top;\n",
       "    }\n",
       "\n",
       "    .dataframe thead th {\n",
       "        text-align: right;\n",
       "    }\n",
       "</style>\n",
       "<table border=\"1\" class=\"dataframe\">\n",
       "  <thead>\n",
       "    <tr style=\"text-align: right;\">\n",
       "      <th></th>\n",
       "      <th>Contributions</th>\n",
       "    </tr>\n",
       "  </thead>\n",
       "  <tbody>\n",
       "    <tr>\n",
       "      <th>pregnancies</th>\n",
       "      <td>0.018229</td>\n",
       "    </tr>\n",
       "    <tr>\n",
       "      <th>glucose</th>\n",
       "      <td>0.000000</td>\n",
       "    </tr>\n",
       "    <tr>\n",
       "      <th>blood_pressure</th>\n",
       "      <td>-0.049479</td>\n",
       "    </tr>\n",
       "    <tr>\n",
       "      <th>skin_thickness</th>\n",
       "      <td>0.023438</td>\n",
       "    </tr>\n",
       "    <tr>\n",
       "      <th>insulin</th>\n",
       "      <td>-0.032552</td>\n",
       "    </tr>\n",
       "  </tbody>\n",
       "</table>\n",
       "</div>"
      ],
      "text/plain": [
       "                Contributions\n",
       "pregnancies          0.018229\n",
       "glucose              0.000000\n",
       "blood_pressure      -0.049479\n",
       "skin_thickness       0.023438\n",
       "insulin             -0.032552"
      ]
     },
     "execution_count": 35,
     "metadata": {},
     "output_type": "execute_result"
    }
   ],
   "source": [
    "plot_contrib_df = pd.DataFrame.from_dict(contributions,orient='index',columns=['Contributions'])\n",
    "plot_contrib_df.head()"
   ]
  },
  {
   "cell_type": "code",
   "execution_count": 36,
   "metadata": {},
   "outputs": [
    {
     "data": {
      "image/png": "[encoded data removed]",
      "text/plain": [
       "<Figure size 648x504 with 1 Axes>"
      ]
     },
     "metadata": {
      "needs_background": "light"
     },
     "output_type": "display_data"
    }
   ],
   "source": [
    "final_plot_contrib_df = plot_contrib_df.iloc[plot_contrib_df['Contributions'].abs().argsort()]\n",
    "final_plot_contrib_df.plot(kind='barh', figsize=(9, 7))\n",
    "plt.title('Feature Contributions')\n",
    "plt.axvline(x=0, color='.5')\n",
    "plt.subplots_adjust(left=.3)"
   ]
  },
  {
   "cell_type": "code",
   "execution_count": null,
   "metadata": {},
   "outputs": [],
   "source": []
  }
 ],
 "metadata": {
  "kernelspec": {
   "display_name": "Python 3",
   "language": "python",
   "name": "python3"
  },
  "language_info": {
   "codemirror_mode": {
    "name": "ipython",
    "version": 3
   },
   "file_extension": ".py",
   "mimetype": "text/x-python",
   "name": "python",
   "nbconvert_exporter": "python",
   "pygments_lexer": "ipython3",
   "version": "3.6.9"
  }
 },
 "nbformat": 4,
 "nbformat_minor": 4
}