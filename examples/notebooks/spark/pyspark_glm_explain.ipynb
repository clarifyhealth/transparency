{
 "cells": [
  {
   "cell_type": "code",
   "execution_count": 31,
   "metadata": {},
   "outputs": [],
   "source": [
    "import findspark \n",
    "findspark.init()"
   ]
  },
  {
   "cell_type": "code",
   "execution_count": 32,
   "metadata": {},
   "outputs": [],
   "source": [
    "from pyspark.sql import SparkSession\n",
    "spark = SparkSession.builder.appName(\"pyspark_glm_explain\").config(\"spark.sql.execution.arrow.enabled\", \"true\").enableHiveSupport().getOrCreate()"
   ]
  },
  {
   "cell_type": "code",
   "execution_count": 33,
   "metadata": {},
   "outputs": [],
   "source": [
    "import re\n",
    "from typing import List\n",
    "from itertools import chain\n",
    "from pyspark.ml import Model\n",
    "from pyspark.ml import Pipeline, PipelineModel\n",
    "from pyspark.sql import SparkSession, DataFrame\n",
    "from pyspark.ml.regression import GeneralizedLinearRegression\n",
    "from pyspark.ml.feature import StringIndexer, VectorAssembler, SQLTransformer, OneHotEncoder\n",
    "\n",
    "from transparency.spark.ohe.decoder import OneHotDecoder\n",
    "from transparency.spark.prediction.explainer.glm import GLMExplainTransformer\n",
    "\n",
    "import pandas as pd\n",
    "import matplotlib.pyplot as plt"
   ]
  },
  {
   "cell_type": "code",
   "execution_count": 34,
   "metadata": {},
   "outputs": [],
   "source": [
    "def get_glm_pipeline_stages(categorical_columns, continuous_columns, label_column, family=\"tweedie\", link=\"identity\",\n",
    "                            variance_power=0.0, link_power=1.0) -> List:\n",
    "    encoders = []\n",
    "    for c in categorical_columns:\n",
    "        indexer = StringIndexer(inputCol=c, outputCol=f\"{c}_IDX\")\n",
    "        encoders.append(indexer)\n",
    "        encoder = OneHotEncoder(inputCol=indexer.getOutputCol(), outputCol=f\"{c}_OHE\", dropLast=False)\n",
    "        encoders.append(encoder)\n",
    "\n",
    "    features_column = f\"features_{label_column}\"\n",
    "    prediction_column = f\"prediction_{label_column}\"\n",
    "\n",
    "    assembler = VectorAssembler(inputCols=[f\"{c}_OHE\" for c in categorical_columns] + continuous_columns,\n",
    "                                outputCol=features_column)\n",
    "\n",
    "    if family == 'tweedie':\n",
    "        _model = GeneralizedLinearRegression(labelCol=label_column, featuresCol=features_column,\n",
    "                                             predictionCol=prediction_column, family=family, linkPower=link_power,\n",
    "                                             variancePower=variance_power)\n",
    "    else:\n",
    "        _model = GeneralizedLinearRegression(labelCol=label_column, featuresCol=features_column,\n",
    "                                             predictionCol=prediction_column, family=family,\n",
    "                                             link=link)\n",
    "\n",
    "    stages: List = encoders + [assembler, _model]\n",
    "\n",
    "    return stages"
   ]
  },
  {
   "cell_type": "code",
   "execution_count": 35,
   "metadata": {},
   "outputs": [],
   "source": [
    "def get_feature_coefficients(spark_session: SparkSession, model: Model, prediction_df: DataFrame,\n",
    "                             feature_column: str, ) -> DataFrame:\n",
    "    ml_attributes = prediction_df.schema[feature_column].metadata[\"ml_attr\"][\"attrs\"].values()\n",
    "    attrs = sorted((attr[\"idx\"], attr[\"name\"]) for attr in (chain(*ml_attributes)))\n",
    "    coefficients = [\n",
    "        (idx, re.sub('[^0-9a-zA-Z]+', '_', name), name, float(model.coefficients[idx]))\n",
    "        for\n",
    "        idx, name\n",
    "        in attrs]\n",
    "    coefficients.append((-1, \"Intercept\", \"Intercept\", model.intercept))\n",
    "    coefficients.sort(key=lambda x: x[3], reverse=True)\n",
    "    coefficients_df: DataFrame = spark_session.createDataFrame(coefficients).toDF(\"Feature_Index\",\n",
    "                                                                                  \"Feature\",\n",
    "                                                                                  \"Original_Feature\",\n",
    "                                                                                  \"Coefficient\")\n",
    "\n",
    "    return coefficients_df"
   ]
  },
  {
   "cell_type": "code",
   "execution_count": 36,
   "metadata": {},
   "outputs": [],
   "source": [
    "def resolve_link_function(family: str, link: str, link_power=1.0):\n",
    "    _link_types = {\"log\": \"logLink\", \"sqrt\": \"powerHalfLink\", \"identity\": \"identityLink\",\n",
    "                   \"logit\": \"logitLink\", \"inverse\": \"inverseLink\", \"other\": \"otherPowerLink\"}\n",
    "    if 'tweedie' == family:\n",
    "        return _link_types[{0.0: \"log\", 0.5: \"sqrt\", 1.0: \"identity\", -1.0: \"inverse\"}.get(link_power, \"other\")]\n",
    "    else:\n",
    "        return _link_types[link]"
   ]
  },
  {
   "cell_type": "code",
   "execution_count": 37,
   "metadata": {},
   "outputs": [],
   "source": [
    "def get_glm_explain_stages(predictions_view: str, coefficients_view: str, label_column: str,\n",
    "                           family: str = 'tweedie', link: str = 'identity',\n",
    "                           variance_power: float = 0.0, link_power: float = 1.0) -> List:\n",
    "    link_function_type = resolve_link_function(family, link, link_power)\n",
    "    stages = [\n",
    "        OneHotDecoder(oheSuffix=\"_OHE\", idxSuffix=\"_IDX\", unknownSuffix=\"Unknown\"),\n",
    "        SQLTransformer(statement=f\"CREATE OR REPLACE TEMPORARY VIEW {predictions_view} AS SELECT * from __THIS__\"),\n",
    "        GLMExplainTransformer(predictionView=predictions_view, coefficientView=coefficients_view,\n",
    "                              linkFunctionType=link_function_type, label=label_column, nested=True,\n",
    "                              calculateSum=True, family=family, variancePower=variance_power, linkPower=link_power\n",
    "                              )\n",
    "    ]\n",
    "    return stages"
   ]
  },
  {
   "cell_type": "markdown",
   "metadata": {},
   "source": [
    "# GeneralizedLinearRegression\n",
    "\n",
    "- The example below is using **boston dataset** for preciting the **median home prices** for occupied homes.\n",
    "- The example is stricitly used for **demonstrating** the uagae of `GLMExplainTransformer`."
   ]
  },
  {
   "cell_type": "code",
   "execution_count": 38,
   "metadata": {},
   "outputs": [],
   "source": [
    "boston_csv = '/work/tests/data/regression/dataset_boston.csv'\n",
    "boston_df: DataFrame = spark.read.option(\"header\", True).option(\"inferSchema\", True).csv(boston_csv)"
   ]
  },
  {
   "cell_type": "code",
   "execution_count": 39,
   "metadata": {},
   "outputs": [],
   "source": [
    "label_column = 'medv'\n",
    "features_column = f\"features_{label_column}\"\n",
    "prediction_column = f\"prediction_{label_column}\"\n",
    "\n",
    "contrib_column = f\"prediction_{label_column}_contrib\"\n",
    "contrib_column_sum = f\"{contrib_column}_sum\"\n",
    "contrib_column_intercept = f\"{contrib_column}_intercept\"\n",
    "\n",
    "features_coefficient_view = f\"features_coefficient_{label_column}_view\"\n",
    "predictions_view = f\"predictions_{label_column}_view\""
   ]
  },
  {
   "cell_type": "code",
   "execution_count": 40,
   "metadata": {},
   "outputs": [],
   "source": [
    "categorical_columns=[]\n",
    "continuous_columns = [x for x in boston_df.columns if x not in ['id', label_column]]"
   ]
  },
  {
   "cell_type": "code",
   "execution_count": 41,
   "metadata": {},
   "outputs": [],
   "source": [
    "stages = get_glm_pipeline_stages([], continuous_columns + categorical_columns, label_column,family=\"gaussian\", link=\"log\")"
   ]
  },
  {
   "cell_type": "code",
   "execution_count": 42,
   "metadata": {},
   "outputs": [],
   "source": [
    "import uuid\n",
    "pipeline = Pipeline(stages=stages)\n",
    "pipeline_model: PipelineModel = pipeline.fit(boston_df)\n",
    "glm_model = pipeline_model.stages[-1]\n",
    "string_id = uuid.uuid4()\n",
    "glm_model_path: str = f\"/tmp/{string_id}\"\n",
    "glm_model.write().save(glm_model_path)"
   ]
  },
  {
   "cell_type": "code",
   "execution_count": 43,
   "metadata": {},
   "outputs": [],
   "source": [
    "prediction_df = pipeline_model.transform(boston_df)\n",
    "prediction_df.createOrReplaceTempView(predictions_view)"
   ]
  },
  {
   "cell_type": "code",
   "execution_count": 44,
   "metadata": {},
   "outputs": [],
   "source": [
    "features_coefficients_df = get_feature_coefficients(spark, glm_model, prediction_df, features_column)\n",
    "features_coefficients_df.createOrReplaceTempView(features_coefficient_view)"
   ]
  },
  {
   "cell_type": "code",
   "execution_count": 45,
   "metadata": {},
   "outputs": [
    {
     "name": "stdout",
     "output_type": "stream",
     "text": [
      "+-------------+---------+----------------+--------------------+\n",
      "|Feature_Index|  Feature|Original_Feature|         Coefficient|\n",
      "+-------------+---------+----------------+--------------------+\n",
      "|           -1|Intercept|       Intercept|  3.5934179294150237|\n",
      "|            5|       rm|              rm| 0.14297146250097179|\n",
      "|            3|     chas|            chas| 0.06606567346006308|\n",
      "|            8|      rad|             rad| 0.01568489582001018|\n",
      "|            2|    indus|           indus| 0.00312300114663444|\n",
      "|            1|       zn|              zn|9.853163534174047E-4|\n",
      "|           11|    black|           black|5.189852722299955E-4|\n",
      "|            6|      age|             age|4.438128429448265...|\n",
      "|            9|      tax|             tax|-5.04566030374328...|\n",
      "|            0|     crim|            crim|-0.00918445383815...|\n",
      "|           12|    lstat|           lstat|-0.03466252972714503|\n",
      "|           10|  ptratio|         ptratio|-0.03482239880119...|\n",
      "|            7|      dis|             dis|-0.04771866722146...|\n",
      "|            4|      nox|             nox| -0.6597313771525636|\n",
      "+-------------+---------+----------------+--------------------+\n",
      "\n"
     ]
    }
   ],
   "source": [
    "features_coefficients_df.show()"
   ]
  },
  {
   "cell_type": "code",
   "execution_count": 46,
   "metadata": {},
   "outputs": [],
   "source": [
    "explain_stages = get_glm_explain_stages(predictions_view, features_coefficient_view, label_column, family=\"gaussian\", link=\"log\")\n",
    "explain_pipeline = Pipeline(stages=explain_stages)\n",
    "explain_df = explain_pipeline.fit(prediction_df).transform(prediction_df)"
   ]
  },
  {
   "cell_type": "code",
   "execution_count": 47,
   "metadata": {},
   "outputs": [],
   "source": [
    "feature_index_meta = features_coefficients_df.select(\"Feature_Index\", \"Feature\").filter(\"Feature_Index!=-1\").orderBy(\"Feature_Index\").rdd.collectAsMap()"
   ]
  },
  {
   "cell_type": "code",
   "execution_count": 48,
   "metadata": {
    "pycharm": {
     "name": "#%%\n"
    }
   },
   "outputs": [],
   "source": [
    "expressions = []\n",
    "for key,value in feature_index_meta.items():\n",
    "    expressions.append(f\"AVG({contrib_column}[{key}]) as {value}\")\n",
    "\n",
    "contributions = explain_df.selectExpr(expressions).collect()[0].asDict()"
   ]
  },
  {
   "cell_type": "code",
   "execution_count": 49,
   "metadata": {},
   "outputs": [
    {
     "data": {
      "text/html": [
       "<div>\n",
       "<style scoped>\n",
       "    .dataframe tbody tr th:only-of-type {\n",
       "        vertical-align: middle;\n",
       "    }\n",
       "\n",
       "    .dataframe tbody tr th {\n",
       "        vertical-align: top;\n",
       "    }\n",
       "\n",
       "    .dataframe thead th {\n",
       "        text-align: right;\n",
       "    }\n",
       "</style>\n",
       "<table border=\"1\" class=\"dataframe\">\n",
       "  <thead>\n",
       "    <tr style=\"text-align: right;\">\n",
       "      <th></th>\n",
       "      <th>Contributions</th>\n",
       "    </tr>\n",
       "  </thead>\n",
       "  <tbody>\n",
       "    <tr>\n",
       "      <th>crim</th>\n",
       "      <td>-1.190116</td>\n",
       "    </tr>\n",
       "    <tr>\n",
       "      <th>zn</th>\n",
       "      <td>0.513555</td>\n",
       "    </tr>\n",
       "    <tr>\n",
       "      <th>indus</th>\n",
       "      <td>1.528219</td>\n",
       "    </tr>\n",
       "    <tr>\n",
       "      <th>chas</th>\n",
       "      <td>0.218917</td>\n",
       "    </tr>\n",
       "    <tr>\n",
       "      <th>nox</th>\n",
       "      <td>-14.390360</td>\n",
       "    </tr>\n",
       "  </tbody>\n",
       "</table>\n",
       "</div>"
      ],
      "text/plain": [
       "       Contributions\n",
       "crim       -1.190116\n",
       "zn          0.513555\n",
       "indus       1.528219\n",
       "chas        0.218917\n",
       "nox       -14.390360"
      ]
     },
     "execution_count": 49,
     "metadata": {},
     "output_type": "execute_result"
    }
   ],
   "source": [
    "plot_contrib_df = pd.DataFrame.from_dict(contributions,orient='index',columns=['Contributions'])\n",
    "plot_contrib_df.head()"
   ]
  },
  {
   "cell_type": "code",
   "execution_count": 50,
   "metadata": {
    "pycharm": {
     "name": "#%%\n"
    }
   },
   "outputs": [
    {
     "data": {
      "image/png": "[encoded data removed]",
      "text/plain": [
       "<Figure size 648x504 with 1 Axes>"
      ]
     },
     "metadata": {
      "needs_background": "light"
     },
     "output_type": "display_data"
    }
   ],
   "source": [
    "final_plot_contrib_df = plot_contrib_df.iloc[plot_contrib_df['Contributions'].abs().argsort()]\n",
    "final_plot_contrib_df.plot(kind='barh', figsize=(9, 7))\n",
    "plt.title('Feature Contributions')\n",
    "plt.axvline(x=0, color='.5')\n",
    "plt.subplots_adjust(left=.3)"
   ]
  },
  {
   "cell_type": "markdown",
   "metadata": {},
   "source": [
    " # GeneralizedLinearRegression : binomial/logit : classification\n",
    "- The example below is using **prima india diabetes dataset** for preciting the **diabetes outcome** for patient.\n",
    "- The example is stricitly used for **demonstrating** the uagae of `GLMExplainTransformer`."
   ]
  },
  {
   "cell_type": "code",
   "execution_count": 51,
   "metadata": {},
   "outputs": [],
   "source": [
    "prima_indian_diabetes_csv = '/work/tests/data/classification/dataset_prima_indian_diabetes.csv'\n",
    "prima_indian_diabetes_df = spark.read.option(\"header\", True).option(\"inferSchema\", True).csv(\n",
    "    prima_indian_diabetes_csv)"
   ]
  },
  {
   "cell_type": "code",
   "execution_count": 52,
   "metadata": {},
   "outputs": [],
   "source": [
    "label_column = 'outcome'\n",
    "features_column = f\"features_{label_column}\"\n",
    "prediction_column = f\"prediction_{label_column}\"\n",
    "\n",
    "contrib_column = f\"prediction_{label_column}_contrib\"\n",
    "contrib_column_sum = f\"{contrib_column}_sum\"\n",
    "contrib_column_intercept = f\"{contrib_column}_intercept\"\n",
    "\n",
    "features_coefficient_view = f\"features_importance_{label_column}_view\"\n",
    "predictions_view = f\"predictions_{label_column}_view\""
   ]
  },
  {
   "cell_type": "code",
   "execution_count": 53,
   "metadata": {},
   "outputs": [],
   "source": [
    "categorical_columns=[]\n",
    "continuous_columns = [x for x in prima_indian_diabetes_df.columns if x not in ['id', label_column]]"
   ]
  },
  {
   "cell_type": "code",
   "execution_count": 54,
   "metadata": {},
   "outputs": [],
   "source": [
    "stages = get_glm_pipeline_stages([], continuous_columns + categorical_columns, label_column,family=\"binomial\", link=\"logit\")"
   ]
  },
  {
   "cell_type": "code",
   "execution_count": 55,
   "metadata": {},
   "outputs": [],
   "source": [
    "import uuid\n",
    "pipeline = Pipeline(stages=stages)\n",
    "pipeline_model: PipelineModel = pipeline.fit(prima_indian_diabetes_df)\n",
    "glm_model = pipeline_model.stages[-1]\n",
    "string_id = uuid.uuid4()\n",
    "glm_model_path: str = f\"/tmp/{string_id}\"\n",
    "glm_model.write().save(glm_model_path)"
   ]
  },
  {
   "cell_type": "code",
   "execution_count": 56,
   "metadata": {},
   "outputs": [],
   "source": [
    "prediction_df = pipeline_model.transform(prima_indian_diabetes_df)\n",
    "prediction_df.createOrReplaceTempView(predictions_view)"
   ]
  },
  {
   "cell_type": "code",
   "execution_count": 57,
   "metadata": {},
   "outputs": [],
   "source": [
    "features_coefficients_df = get_feature_coefficients(spark, glm_model, prediction_df, features_column)\n",
    "features_coefficients_df.createOrReplaceTempView(features_coefficient_view)"
   ]
  },
  {
   "cell_type": "code",
   "execution_count": 58,
   "metadata": {},
   "outputs": [
    {
     "name": "stdout",
     "output_type": "stream",
     "text": [
      "+-------------+--------------------+--------------------+--------------------+\n",
      "|Feature_Index|             Feature|    Original_Feature|         Coefficient|\n",
      "+-------------+--------------------+--------------------+--------------------+\n",
      "|            6|diabetes_pedigree...|diabetes_pedigree...|  0.9451797406211632|\n",
      "|            0|         pregnancies|         pregnancies| 0.12318229835242865|\n",
      "|            5|                 bmi|                 bmi| 0.08970097003094403|\n",
      "|            1|             glucose|             glucose|0.035163714606853205|\n",
      "|            7|                 age|                 age| 0.01486900474447571|\n",
      "|            3|      skin_thickness|      skin_thickness|6.189643648752055E-4|\n",
      "|            4|             insulin|             insulin|-0.00119169898416...|\n",
      "|            2|      blood_pressure|      blood_pressure|-0.01329554690430...|\n",
      "|           -1|           Intercept|           Intercept|  -8.404696366913944|\n",
      "+-------------+--------------------+--------------------+--------------------+\n",
      "\n"
     ]
    }
   ],
   "source": [
    "features_coefficients_df.show()"
   ]
  },
  {
   "cell_type": "code",
   "execution_count": 59,
   "metadata": {},
   "outputs": [],
   "source": [
    "explain_stages = get_glm_explain_stages(predictions_view, features_coefficient_view, label_column, family=\"binomial\", link=\"logit\")\n",
    "explain_pipeline = Pipeline(stages=explain_stages)\n",
    "explain_df = explain_pipeline.fit(prediction_df).transform(prediction_df)"
   ]
  },
  {
   "cell_type": "code",
   "execution_count": 60,
   "metadata": {},
   "outputs": [],
   "source": [
    "feature_index_meta = features_coefficients_df.select(\"Feature_Index\", \"Feature\").filter(\"Feature_Index!=-1\").orderBy(\"Feature_Index\").rdd.collectAsMap()"
   ]
  },
  {
   "cell_type": "code",
   "execution_count": 61,
   "metadata": {},
   "outputs": [],
   "source": [
    "expressions = []\n",
    "for key,value in feature_index_meta.items():\n",
    "    expressions.append(f\"AVG({contrib_column}[{key}]) as {value}\")\n",
    "\n",
    "contributions = explain_df.selectExpr(expressions).collect()[0].asDict()"
   ]
  },
  {
   "cell_type": "code",
   "execution_count": 62,
   "metadata": {},
   "outputs": [
    {
     "data": {
      "text/html": [
       "<div>\n",
       "<style scoped>\n",
       "    .dataframe tbody tr th:only-of-type {\n",
       "        vertical-align: middle;\n",
       "    }\n",
       "\n",
       "    .dataframe tbody tr th {\n",
       "        vertical-align: top;\n",
       "    }\n",
       "\n",
       "    .dataframe thead th {\n",
       "        text-align: right;\n",
       "    }\n",
       "</style>\n",
       "<table border=\"1\" class=\"dataframe\">\n",
       "  <thead>\n",
       "    <tr style=\"text-align: right;\">\n",
       "      <th></th>\n",
       "      <th>Contributions</th>\n",
       "    </tr>\n",
       "  </thead>\n",
       "  <tbody>\n",
       "    <tr>\n",
       "      <th>pregnancies</th>\n",
       "      <td>0.025666</td>\n",
       "    </tr>\n",
       "    <tr>\n",
       "      <th>glucose</th>\n",
       "      <td>0.217186</td>\n",
       "    </tr>\n",
       "    <tr>\n",
       "      <th>blood_pressure</th>\n",
       "      <td>-0.075511</td>\n",
       "    </tr>\n",
       "    <tr>\n",
       "      <th>skin_thickness</th>\n",
       "      <td>0.000622</td>\n",
       "    </tr>\n",
       "    <tr>\n",
       "      <th>insulin</th>\n",
       "      <td>-0.008005</td>\n",
       "    </tr>\n",
       "  </tbody>\n",
       "</table>\n",
       "</div>"
      ],
      "text/plain": [
       "                Contributions\n",
       "pregnancies          0.025666\n",
       "glucose              0.217186\n",
       "blood_pressure      -0.075511\n",
       "skin_thickness       0.000622\n",
       "insulin             -0.008005"
      ]
     },
     "execution_count": 62,
     "metadata": {},
     "output_type": "execute_result"
    }
   ],
   "source": [
    "plot_contrib_df = pd.DataFrame.from_dict(contributions,orient='index',columns=['Contributions'])\n",
    "plot_contrib_df.head()"
   ]
  },
  {
   "cell_type": "code",
   "execution_count": 63,
   "metadata": {},
   "outputs": [
    {
     "data": {
      "image/png": "[encoded data removed]",
      "text/plain": [
       "<Figure size 648x504 with 1 Axes>"
      ]
     },
     "metadata": {
      "needs_background": "light"
     },
     "output_type": "display_data"
    }
   ],
   "source": [
    "final_plot_contrib_df = plot_contrib_df.iloc[plot_contrib_df['Contributions'].abs().argsort()]\n",
    "final_plot_contrib_df.plot(kind='barh', figsize=(9, 7))\n",
    "plt.title('Feature Contributions')\n",
    "plt.axvline(x=0, color='.5')\n",
    "plt.subplots_adjust(left=.3)"
   ]
  },
  {
   "cell_type": "code",
   "execution_count": null,
   "metadata": {},
   "outputs": [],
   "source": []
  }
 ],
 "metadata": {
  "kernelspec": {
   "display_name": "Python 3",
   "language": "python",
   "name": "python3"
  },
  "language_info": {
   "codemirror_mode": {
    "name": "ipython",
    "version": 3
   },
   "file_extension": ".py",
   "mimetype": "text/x-python",
   "name": "python",
   "nbconvert_exporter": "python",
   "pygments_lexer": "ipython3",
   "version": "3.6.9"
  }
 },
 "nbformat": 4,
 "nbformat_minor": 4
}