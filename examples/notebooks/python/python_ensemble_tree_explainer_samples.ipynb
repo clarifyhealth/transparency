{
 "cells": [
  {
   "cell_type": "code",
   "execution_count": 1,
   "metadata": {
    "collapsed": true,
    "pycharm": {
     "name": "#%%\n"
    }
   },
   "outputs": [],
   "source": [
    "# This notebook provides examples on how to use the EnsembleTreeExplainer and EnsembleTreeExplainerTransformer in python\n",
    "\n",
    "import pandas as pd\n",
    "import numpy as np\n",
    "from sklearn.datasets import load_diabetes\n",
    "from sklearn.ensemble import RandomForestRegressor\n",
    "from sklearn.model_selection import train_test_split\n",
    "from sklearn.metrics import r2_score as r2\n",
    "from transparency.python.explainer.ensemble_tree import EnsembleTreeExplainer, EnsembleTreeExplainerTransformer\n",
    "from xgboost import XGBRegressor\n",
    "from matplotlib import pyplot as plt"
   ]
  },
  {
   "cell_type": "code",
   "execution_count": 2,
   "outputs": [
    {
     "name": "stdout",
     "output_type": "stream",
     "text": [
      "0.5288126961978159\n",
      "[('age', 8.474315068493151), ('sex', 1.1076027397260273), ('bmi', -7.601438356164386), ('map', -1.4340410958904126), ('tc', 0.8658904109589042), ('ldl', -3.2867123287671225), ('hdl', 4.738424657534245), ('tch', 0.7329452054794526), ('ltg', 5.530684931506841), ('glu', 1.4589041095890427)]\n"
     ]
    },
    {
     "data": {
      "text/plain": "<Figure size 648x504 with 1 Axes>",
      "image/png": "[encoded data removed]"
     },
     "metadata": {
      "needs_background": "light"
     },
     "output_type": "display_data"
    }
   ],
   "source": [
    "# EnsembleTreeExplainer Example\n",
    "\n",
    "# loading the diabetes dataset\n",
    "columns = 'age sex bmi map tc ldl hdl tch ltg glu'.split()\n",
    "diabetes = load_diabetes()\n",
    "X = np.array(pd.DataFrame(diabetes.data, columns=columns))\n",
    "y = diabetes.target\n",
    "\n",
    "# train-test-split\n",
    "X_train, X_test, y_train, y_test = train_test_split(X, y, test_size=0.33)\n",
    "\n",
    "# model training\n",
    "rf_model = RandomForestRegressor().fit(X_train, y_train)\n",
    "y_pred = rf_model.predict(X_test)\n",
    "\n",
    "# regression evaluation: r2 score\n",
    "r2_eval = r2(y_test, y_pred)\n",
    "print(r2_eval)\n",
    "\n",
    "# prediction explanation generation\n",
    "expl = EnsembleTreeExplainer(rf_model)\n",
    "contributions, contrib_intercept = expl.predict(X_test)\n",
    "assert(((np.sum(contributions, axis=1) + contrib_intercept) - y_pred < .01).all())\n",
    "\n",
    "average_contribs = list(zip(columns, np.mean(contributions, axis=0)))\n",
    "print(average_contribs)\n",
    "\n",
    "# Plotting mean feature contributions over the total population\n",
    "plot_contrib_df = pd.DataFrame(np.mean(contributions, axis=0), index=columns, columns=['Contributions'])\n",
    "final_plot_contrib_df = plot_contrib_df.iloc[plot_contrib_df['Contributions'].abs().argsort()]\n",
    "final_plot_contrib_df.plot(kind='barh', figsize=(9, 7))\n",
    "plt.title('Feature Contributions')\n",
    "plt.axvline(x=0, color='.5')\n",
    "plt.subplots_adjust(left=.3)\n",
    "plt.show()"
   ],
   "metadata": {
    "collapsed": false,
    "pycharm": {
     "name": "#%%\n"
    }
   }
  },
  {
   "cell_type": "code",
   "execution_count": 29,
   "outputs": [
    {
     "name": "stdout",
     "output_type": "stream",
     "text": [
      "0.2742948437918803\n",
      "[('age', 1.6679926), ('sex', 5.774678), ('bmi', -0.27776316), ('map', 5.0063214), ('tc', 1.9094865), ('ldl', -4.756497), ('hdl', 0.32969067), ('tch', -0.44506857), ('ltg', -22.67054), ('glu', -4.436715)]\n"
     ]
    }
   ],
   "source": [
    "# XGBOOST EnsembleTreeExplainer Example\n",
    "\n",
    "# model training\n",
    "xgb_model = XGBRegressor().fit(X_train, y_train)\n",
    "y_pred = xgb_model.predict(X_test)\n",
    "\n",
    "# regression evaluation: r2 score\n",
    "r2_eval = r2(y_test, y_pred)\n",
    "print(r2_eval)\n",
    "\n",
    "# prediction explanation generation\n",
    "expl = EnsembleTreeExplainer(xgb_model)\n",
    "contributions, contrib_intercept = expl.predict(X_test)\n",
    "assert(((np.sum(contributions, axis=1) + contrib_intercept) - y_pred < .01).all())\n",
    "\n",
    "average_contribs = zip(columns, np.mean(contributions, axis=0))\n",
    "print(list(average_contribs))"
   ],
   "metadata": {
    "collapsed": false,
    "pycharm": {
     "name": "#%%\n"
    }
   }
  },
  {
   "cell_type": "code",
   "execution_count": 33,
   "outputs": [
    {
     "name": "stdout",
     "output_type": "stream",
     "text": [
      "0.4241576512527536\n"
     ]
    },
    {
     "data": {
      "text/plain": "<Figure size 648x504 with 1 Axes>",
      "image/png": "[encoded data removed]"
     },
     "metadata": {
      "needs_background": "light"
     },
     "output_type": "display_data"
    }
   ],
   "source": [
    "# Explanation Using the Ensemble Tree Explanation Transformer\n",
    "\n",
    "# model training\n",
    "rf_model = RandomForestRegressor().fit(X_train, y_train)\n",
    "y_pred = rf_model.predict(X_test)\n",
    "\n",
    "# regression evaluation: r2 score\n",
    "r2_eval = r2(y_test, y_pred)\n",
    "print(r2_eval)\n",
    "\n",
    "X_test2 = pd.DataFrame(X_test)\n",
    "\n",
    "expl = EnsembleTreeExplainerTransformer(rf_model)\n",
    "X_test2 = expl.transform(X_test2)\n",
    "\n",
    "assert('feature_contributions' in X_test2.columns)\n",
    "assert('intercept_contribution' in X_test2.columns)\n",
    "assert((np.abs(np.array(X_test2['feature_contributions'].apply(lambda x: sum(x[0])) + \\\n",
    "                        X_test2['intercept_contribution']) - X_test2['prediction']) < .01).all())\n",
    "\n",
    "# Plotting mean feature contributions over the total population\n",
    "plot_contrib_df = pd.DataFrame(np.mean(X_test2['feature_contributions'].apply(lambda x: x[0]), axis=0),\n",
    "                               index=columns, columns=['Contributions'])\n",
    "\n",
    "final_plot_contrib_df = plot_contrib_df.iloc[plot_contrib_df['Contributions'].abs().argsort()]\n",
    "final_plot_contrib_df.plot(kind='barh', figsize=(9, 7))\n",
    "plt.title('Feature Contributions')\n",
    "plt.axvline(x=0, color='.5')\n",
    "plt.subplots_adjust(left=.3)\n",
    "plt.show()\n"
   ],
   "metadata": {
    "collapsed": false,
    "pycharm": {
     "name": "#%%\n"
    }
   }
  }
 ],
 "metadata": {
  "kernelspec": {
   "display_name": "Python 3",
   "language": "python",
   "name": "python3"
  },
  "language_info": {
   "codemirror_mode": {
    "name": "ipython",
    "version": 2
   },
   "file_extension": ".py",
   "mimetype": "text/x-python",
   "name": "python",
   "nbconvert_exporter": "python",
   "pygments_lexer": "ipython2",
   "version": "2.7.6"
  }
 },
 "nbformat": 4,
 "nbformat_minor": 0
}