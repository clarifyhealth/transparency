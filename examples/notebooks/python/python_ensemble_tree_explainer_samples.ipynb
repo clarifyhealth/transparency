{
 "cells": [
  {
   "cell_type": "code",
   "execution_count": 76,
   "metadata": {
    "collapsed": true,
    "pycharm": {
     "name": "#%%\n"
    }
   },
   "outputs": [],
   "source": [
    "# This notebook provides examples on how to use the EnsembleTreeExplainer and EnsembleTreeExplainerTransformer in python\n",
    "\n",
    "import pandas as pd\n",
    "import numpy as np\n",
    "from sklearn.datasets import load_diabetes\n",
    "from sklearn.ensemble import RandomForestRegressor\n",
    "from sklearn.model_selection import train_test_split\n",
    "from sklearn.metrics import r2_score as r2\n",
    "from transparency.python.explainer.ensemble_tree import EnsembleTreeExplainer, EnsembleTreeExplainerTransformer\n",
    "from xgboost import XGBRegressor\n",
    "from matplotlib import pyplot as plt"
   ]
  },
  {
   "cell_type": "code",
   "execution_count": 77,
   "outputs": [
    {
     "name": "stdout",
     "output_type": "stream",
     "text": [
      "0.4572378550220241\n",
      "[('age', 4.868356164383563), ('sex', 2.8878082191780816), ('bmi', -1.0010273972602743), ('map', 14.186917808219178), ('tc', 1.7128767123287667), ('ldl', 6.031027397260274), ('hdl', 0.5033561643835619), ('tch', -3.4859589041095895), ('ltg', 1.9572602739726057), ('glu', 1.1881506849315062)]\n"
     ]
    },
    {
     "data": {
      "text/plain": "<Figure size 648x504 with 1 Axes>",
      "image/png": "[encoded data removed]"
     },
     "metadata": {
      "needs_background": "light"
     },
     "output_type": "display_data"
    }
   ],
   "source": [
    "# EnsembleTreeExplainer Example\n",
    "\n",
    "# loading the diabetes dataset\n",
    "columns = 'age sex bmi map tc ldl hdl tch ltg glu'.split()\n",
    "diabetes = load_diabetes()\n",
    "X = np.array(pd.DataFrame(diabetes.data, columns=columns))\n",
    "y = diabetes.target\n",
    "\n",
    "# train-test-split\n",
    "X_train, X_test, y_train, y_test = train_test_split(X, y, test_size=0.33)\n",
    "\n",
    "# model training\n",
    "rf_model = RandomForestRegressor().fit(X_train, y_train)\n",
    "y_pred = rf_model.predict(X_test)\n",
    "\n",
    "# regression evaluation: r2 score\n",
    "r2_eval = r2(y_test, y_pred)\n",
    "print(r2_eval)\n",
    "\n",
    "# prediction explanation generation\n",
    "expl = EnsembleTreeExplainer(rf_model)\n",
    "contributions, contrib_intercept = expl.predict(X_test)\n",
    "assert(((np.sum(contributions, axis=1) + contrib_intercept) - y_pred < .01).all())\n",
    "\n",
    "average_contribs = list(zip(columns, np.mean(contributions, axis=0)))\n",
    "print(average_contribs)\n",
    "\n",
    "# Plotting mean feature contributions over the total population\n",
    "plot_contrib_df = pd.DataFrame(np.mean(contributions, axis=0), index=columns, columns=['Contributions'])\n",
    "final_plot_contrib_df = plot_contrib_df.iloc[plot_contrib_df['Contributions'].abs().argsort()]\n",
    "final_plot_contrib_df.plot(kind='barh', figsize=(9, 7))\n",
    "plt.title('Feature Contributions')\n",
    "plt.axvline(x=0, color='.5')\n",
    "plt.subplots_adjust(left=.3)\n",
    "plt.show()"
   ],
   "metadata": {
    "collapsed": false,
    "pycharm": {
     "name": "#%%\n"
    }
   }
  },
  {
   "cell_type": "code",
   "execution_count": 78,
   "outputs": [
    {
     "name": "stdout",
     "output_type": "stream",
     "text": [
      "0.3860805298927019\n",
      "[('age', 3.9977496), ('sex', 12.185576), ('bmi', -10.831456), ('map', 0.23791292), ('tc', -6.3151193), ('ldl', -10.828937), ('hdl', 9.372715), ('tch', 0.85178983), ('ltg', 5.905974), ('glu', 1.2700697)]\n"
     ]
    }
   ],
   "source": [
    "# XGBOOST EnsembleTreeExplainer Example\n",
    "\n",
    "# model training\n",
    "xgb_model = XGBRegressor().fit(X_train, y_train)\n",
    "y_pred = xgb_model.predict(X_test)\n",
    "\n",
    "# regression evaluation: r2 score\n",
    "r2_eval = r2(y_test, y_pred)\n",
    "print(r2_eval)\n",
    "\n",
    "# prediction explanation generation\n",
    "expl = EnsembleTreeExplainer(xgb_model)\n",
    "contributions, contrib_intercept = expl.predict(X_test)\n",
    "assert(((np.sum(contributions, axis=1) + contrib_intercept) - y_pred < .01).all())\n",
    "\n",
    "average_contribs = zip(columns, np.mean(contributions, axis=0))\n",
    "print(list(average_contribs))"
   ],
   "metadata": {
    "collapsed": false,
    "pycharm": {
     "name": "#%%\n"
    }
   }
  },
  {
   "cell_type": "code",
   "execution_count": 79,
   "outputs": [
    {
     "name": "stdout",
     "output_type": "stream",
     "text": [
      "0.4481169077091779\n"
     ]
    }
   ],
   "source": [
    "# Explanation Using the Ensemble Tree Explanation Transformer\n",
    "\n",
    "# model training\n",
    "rf_model = RandomForestRegressor().fit(X_train, y_train)\n",
    "y_pred = rf_model.predict(X_test)\n",
    "\n",
    "# regression evaluation: r2 score\n",
    "r2_eval = r2(y_test, y_pred)\n",
    "print(r2_eval)\n",
    "\n",
    "X_test2 = pd.DataFrame(X_test)\n",
    "\n",
    "expl = EnsembleTreeExplainerTransformer(rf_model)\n",
    "expl.fit()\n",
    "X_test2 = expl.transform(X_test2)\n",
    "\n",
    "assert('feature_contributions' in X_test2.columns)\n",
    "assert('intercept_contribution' in X_test2.columns)\n",
    "assert((np.abs(np.array(X_test2['feature_contributions'].apply(lambda x: sum(x[0])) + \\\n",
    "                        X_test2['intercept_contribution']) - np.array(y_pred)) < .01).all())"
   ],
   "metadata": {
    "collapsed": false,
    "pycharm": {
     "name": "#%%\n"
    }
   }
  },
  {
   "cell_type": "code",
   "execution_count": 80,
   "outputs": [
    {
     "data": {
      "text/plain": "<Figure size 648x504 with 1 Axes>",
      "image/png": "[encoded data removed]"
     },
     "metadata": {
      "needs_background": "light"
     },
     "output_type": "display_data"
    }
   ],
   "source": [
    "# Plotting mean feature contributions over the total population\n",
    "plot_contrib_df = pd.DataFrame(np.mean(X_test2['feature_contributions'].apply(lambda x: x[0]), axis=0),\n",
    "                               index=columns, columns=['Contributions'])\n",
    "\n",
    "final_plot_contrib_df = plot_contrib_df.iloc[plot_contrib_df['Contributions'].abs().argsort()]\n",
    "final_plot_contrib_df.plot(kind='barh', figsize=(9, 7))\n",
    "plt.title('Feature Contributions')\n",
    "plt.axvline(x=0, color='.5')\n",
    "plt.subplots_adjust(left=.3)\n",
    "plt.show()\n"
   ],
   "metadata": {
    "collapsed": false,
    "pycharm": {
     "name": "#%%\n"
    }
   }
  }
 ],
 "metadata": {
  "kernelspec": {
   "display_name": "Python 3",
   "language": "python",
   "name": "python3"
  },
  "language_info": {
   "codemirror_mode": {
    "name": "ipython",
    "version": 2
   },
   "file_extension": ".py",
   "mimetype": "text/x-python",
   "name": "python",
   "nbconvert_exporter": "python",
   "pygments_lexer": "ipython2",
   "version": "2.7.6"
  }
 },
 "nbformat": 4,
 "nbformat_minor": 0
}