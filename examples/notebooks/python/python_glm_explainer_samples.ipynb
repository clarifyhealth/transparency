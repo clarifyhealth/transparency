{
 "cells": [
  {
   "cell_type": "code",
   "execution_count": 1,
   "metadata": {
    "collapsed": true
   },
   "outputs": [],
   "source": [
    "# glmExplainer Examples\n",
    "\n",
    "import pandas as pd\n",
    "import numpy as np\n",
    "from sklearn.datasets import load_diabetes, load_iris\n",
    "from sklearn import linear_model\n",
    "from sklearn.model_selection import train_test_split\n",
    "from sklearn.metrics import r2_score, f1_score\n",
    "from matplotlib import pyplot as plt\n",
    "from transparency.python.explainer.glm import glmExplainerTransformer"
   ]
  },
  {
   "cell_type": "code",
   "execution_count": 2,
   "outputs": [
    {
     "name": "stdout",
     "output_type": "stream",
     "text": [
      "f1 score =  1.0\n"
     ]
    },
    {
     "data": {
      "text/plain": "<Figure size 648x504 with 1 Axes>",
      "image/png": "[encoded data removed]"
     },
     "metadata": {
      "needs_background": "light"
     },
     "output_type": "display_data"
    }
   ],
   "source": [
    "# Prediction explanation sample for logistic regression\n",
    "# loading the iris dataset\n",
    "\n",
    "columns = 'Sepal_Length Sepal_Width Petal_Length Petal_Width'.split()\n",
    "iris = load_iris()\n",
    "y = iris.target\n",
    "X = pd.DataFrame(iris.data, columns=columns).iloc[y<2, :]\n",
    "y = y[y<2]\n",
    "\n",
    "\n",
    "# train-test-split\n",
    "X_train, X_test, y_train, y_test = train_test_split(X, y, test_size=0.33)\n",
    "\n",
    "# model training\n",
    "clf = linear_model.LogisticRegression()\n",
    "clf.fit(X_train, y_train)\n",
    "y_pred = clf.predict(X_test)\n",
    "y_proba = clf.predict_proba(X_test)\n",
    "\n",
    "# regression evaluation: r2 score\n",
    "f1_eval = f1_score(y_test, y_pred)\n",
    "print('f1 score = ', f1_eval)\n",
    "\n",
    "clf.predict(np.zeros((1, X_train.shape[1])))[0]\n",
    "\n",
    "\n",
    "# prediction explanation generation\n",
    "expl = glmExplainerTransformer(clf)\n",
    "df = expl.transform(X_test)\n",
    "\n",
    "assert((np.abs(df['feature_contributions'].apply(lambda x: sum(x[0])) + \\\n",
    "               df['intercept_contribution'] - df['prediction']) < .01).all())\n",
    "\n",
    "# Plotting mean feature contributions over the total population\n",
    "plot_contrib_df = pd.DataFrame(np.mean(df['feature_contributions'].apply(lambda x: x[0]), axis=0),\n",
    "                               index=columns, columns=['Contributions'])\n",
    "\n",
    "final_plot_contrib_df = plot_contrib_df.iloc[plot_contrib_df['Contributions'].abs().argsort()]\n",
    "final_plot_contrib_df.plot(kind='barh', figsize=(9, 7))\n",
    "plt.title('Feature Contributions')\n",
    "plt.axvline(x=0, color='.5')\n",
    "plt.subplots_adjust(left=.3)\n",
    "plt.show()"
   ],
   "metadata": {
    "collapsed": false,
    "pycharm": {
     "name": "#%%\n"
    }
   }
  },
  {
   "cell_type": "code",
   "execution_count": 3,
   "outputs": [
    {
     "name": "stdout",
     "output_type": "stream",
     "text": [
      "f1 score =  1.0\n"
     ]
    },
    {
     "data": {
      "text/plain": "<Figure size 648x504 with 1 Axes>",
      "image/png": "[encoded data removed]"
     },
     "metadata": {
      "needs_background": "light"
     },
     "output_type": "display_data"
    }
   ],
   "source": [
    "# Prediction explanation sample for logistic regression\n",
    "# Here we set output_proba as True to have the explainer return and explain\n",
    "# proba as output of logistic regression\n",
    "# loading the iris dataset with proba output\n",
    "\n",
    "columns = 'Sepal_Length Sepal_Width Petal_Length Petal_Width'.split()\n",
    "iris = load_iris()\n",
    "y = iris.target\n",
    "X = pd.DataFrame(iris.data, columns=columns).iloc[y<2, :]\n",
    "y = y[y<2]\n",
    "\n",
    "\n",
    "# train-test-split\n",
    "X_train, X_test, y_train, y_test = train_test_split(X, y, test_size=0.33)\n",
    "\n",
    "# model training\n",
    "clf = linear_model.LogisticRegression()\n",
    "clf.fit(X_train, y_train)\n",
    "y_pred = clf.predict(X_test)\n",
    "y_proba = clf.predict_proba(X_test)\n",
    "\n",
    "# regression evaluation: r2 score\n",
    "f1_eval = f1_score(y_test, y_pred)\n",
    "print('f1 score = ', f1_eval)\n",
    "\n",
    "clf.predict(np.zeros((1, X_train.shape[1])))[0]\n",
    "\n",
    "\n",
    "# prediction explanation generation\n",
    "expl = glmExplainerTransformer(clf, output_proba=True)\n",
    "df = expl.transform(X_test)\n",
    "\n",
    "assert((np.abs(df['feature_contributions'].apply(lambda x: sum(x[0])) + \\\n",
    "               df['intercept_contribution'] - df['prediction']) < .01).all())\n",
    "\n",
    "# Plotting mean feature contributions over the total population\n",
    "plot_contrib_df = pd.DataFrame(np.mean(df['feature_contributions'].apply(lambda x: x[0]), axis=0),\n",
    "                               index=columns, columns=['Contributions'])\n",
    "\n",
    "final_plot_contrib_df = plot_contrib_df.iloc[plot_contrib_df['Contributions'].abs().argsort()]\n",
    "final_plot_contrib_df.plot(kind='barh', figsize=(9, 7))\n",
    "plt.title('Feature Contributions')\n",
    "plt.axvline(x=0, color='.5')\n",
    "plt.subplots_adjust(left=.3)\n",
    "plt.show()\n"
   ],
   "metadata": {
    "collapsed": false,
    "pycharm": {
     "name": "#%%\n"
    }
   }
  }
 ],
 "metadata": {
  "kernelspec": {
   "display_name": "Python 3",
   "language": "python",
   "name": "python3"
  },
  "language_info": {
   "codemirror_mode": {
    "name": "ipython",
    "version": 2
   },
   "file_extension": ".py",
   "mimetype": "text/x-python",
   "name": "python",
   "nbconvert_exporter": "python",
   "pygments_lexer": "ipython2",
   "version": "2.7.6"
  }
 },
 "nbformat": 4,
 "nbformat_minor": 0
}